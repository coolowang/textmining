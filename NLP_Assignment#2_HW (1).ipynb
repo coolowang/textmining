{
 "cells": [
  {
   "cell_type": "code",
   "execution_count": null,
   "metadata": {},
   "outputs": [],
   "source": [
    "# NLP Assignment #2\n",
    "# Hairun Wang "
   ]
  },
  {
   "cell_type": "code",
   "execution_count": 1,
   "metadata": {},
   "outputs": [
    {
     "name": "stdout",
     "output_type": "stream",
     "text": [
      "[nltk_data] Downloading collection 'popular'\n",
      "[nltk_data]    | \n",
      "[nltk_data]    | Downloading package cmudict to\n",
      "[nltk_data]    |     /Users/hairunwang/nltk_data...\n",
      "[nltk_data]    |   Package cmudict is already up-to-date!\n",
      "[nltk_data]    | Downloading package gazetteers to\n",
      "[nltk_data]    |     /Users/hairunwang/nltk_data...\n",
      "[nltk_data]    |   Package gazetteers is already up-to-date!\n",
      "[nltk_data]    | Downloading package genesis to\n",
      "[nltk_data]    |     /Users/hairunwang/nltk_data...\n",
      "[nltk_data]    |   Package genesis is already up-to-date!\n",
      "[nltk_data]    | Downloading package gutenberg to\n",
      "[nltk_data]    |     /Users/hairunwang/nltk_data...\n",
      "[nltk_data]    |   Package gutenberg is already up-to-date!\n",
      "[nltk_data]    | Downloading package inaugural to\n",
      "[nltk_data]    |     /Users/hairunwang/nltk_data...\n",
      "[nltk_data]    |   Package inaugural is already up-to-date!\n",
      "[nltk_data]    | Downloading package movie_reviews to\n",
      "[nltk_data]    |     /Users/hairunwang/nltk_data...\n",
      "[nltk_data]    |   Package movie_reviews is already up-to-date!\n",
      "[nltk_data]    | Downloading package names to\n",
      "[nltk_data]    |     /Users/hairunwang/nltk_data...\n",
      "[nltk_data]    |   Package names is already up-to-date!\n",
      "[nltk_data]    | Downloading package shakespeare to\n",
      "[nltk_data]    |     /Users/hairunwang/nltk_data...\n",
      "[nltk_data]    |   Package shakespeare is already up-to-date!\n",
      "[nltk_data]    | Downloading package stopwords to\n",
      "[nltk_data]    |     /Users/hairunwang/nltk_data...\n",
      "[nltk_data]    |   Package stopwords is already up-to-date!\n",
      "[nltk_data]    | Downloading package treebank to\n",
      "[nltk_data]    |     /Users/hairunwang/nltk_data...\n",
      "[nltk_data]    |   Package treebank is already up-to-date!\n",
      "[nltk_data]    | Downloading package twitter_samples to\n",
      "[nltk_data]    |     /Users/hairunwang/nltk_data...\n",
      "[nltk_data]    |   Package twitter_samples is already up-to-date!\n",
      "[nltk_data]    | Downloading package omw to\n",
      "[nltk_data]    |     /Users/hairunwang/nltk_data...\n",
      "[nltk_data]    |   Package omw is already up-to-date!\n",
      "[nltk_data]    | Downloading package wordnet to\n",
      "[nltk_data]    |     /Users/hairunwang/nltk_data...\n",
      "[nltk_data]    |   Package wordnet is already up-to-date!\n",
      "[nltk_data]    | Downloading package wordnet_ic to\n",
      "[nltk_data]    |     /Users/hairunwang/nltk_data...\n",
      "[nltk_data]    |   Package wordnet_ic is already up-to-date!\n",
      "[nltk_data]    | Downloading package words to\n",
      "[nltk_data]    |     /Users/hairunwang/nltk_data...\n",
      "[nltk_data]    |   Package words is already up-to-date!\n",
      "[nltk_data]    | Downloading package maxent_ne_chunker to\n",
      "[nltk_data]    |     /Users/hairunwang/nltk_data...\n",
      "[nltk_data]    |   Package maxent_ne_chunker is already up-to-date!\n",
      "[nltk_data]    | Downloading package punkt to\n",
      "[nltk_data]    |     /Users/hairunwang/nltk_data...\n",
      "[nltk_data]    |   Package punkt is already up-to-date!\n",
      "[nltk_data]    | Downloading package snowball_data to\n",
      "[nltk_data]    |     /Users/hairunwang/nltk_data...\n",
      "[nltk_data]    |   Package snowball_data is already up-to-date!\n",
      "[nltk_data]    | Downloading package averaged_perceptron_tagger to\n",
      "[nltk_data]    |     /Users/hairunwang/nltk_data...\n",
      "[nltk_data]    |   Package averaged_perceptron_tagger is already up-\n",
      "[nltk_data]    |       to-date!\n",
      "[nltk_data]    | \n",
      "[nltk_data]  Done downloading collection popular\n",
      "[nltk_data] Downloading collection 'all'\n",
      "[nltk_data]    | \n",
      "[nltk_data]    | Downloading package abc to\n",
      "[nltk_data]    |     /Users/hairunwang/nltk_data...\n",
      "[nltk_data]    |   Package abc is already up-to-date!\n",
      "[nltk_data]    | Downloading package alpino to\n",
      "[nltk_data]    |     /Users/hairunwang/nltk_data...\n",
      "[nltk_data]    |   Package alpino is already up-to-date!\n",
      "[nltk_data]    | Downloading package biocreative_ppi to\n",
      "[nltk_data]    |     /Users/hairunwang/nltk_data...\n",
      "[nltk_data]    |   Package biocreative_ppi is already up-to-date!\n",
      "[nltk_data]    | Downloading package brown to\n",
      "[nltk_data]    |     /Users/hairunwang/nltk_data...\n",
      "[nltk_data]    |   Package brown is already up-to-date!\n",
      "[nltk_data]    | Downloading package brown_tei to\n",
      "[nltk_data]    |     /Users/hairunwang/nltk_data...\n",
      "[nltk_data]    |   Package brown_tei is already up-to-date!\n",
      "[nltk_data]    | Downloading package cess_cat to\n",
      "[nltk_data]    |     /Users/hairunwang/nltk_data...\n",
      "[nltk_data]    |   Package cess_cat is already up-to-date!\n",
      "[nltk_data]    | Downloading package cess_esp to\n",
      "[nltk_data]    |     /Users/hairunwang/nltk_data...\n",
      "[nltk_data]    |   Package cess_esp is already up-to-date!\n",
      "[nltk_data]    | Downloading package chat80 to\n",
      "[nltk_data]    |     /Users/hairunwang/nltk_data...\n",
      "[nltk_data]    |   Package chat80 is already up-to-date!\n",
      "[nltk_data]    | Downloading package city_database to\n",
      "[nltk_data]    |     /Users/hairunwang/nltk_data...\n",
      "[nltk_data]    |   Package city_database is already up-to-date!\n",
      "[nltk_data]    | Downloading package cmudict to\n",
      "[nltk_data]    |     /Users/hairunwang/nltk_data...\n",
      "[nltk_data]    |   Package cmudict is already up-to-date!\n",
      "[nltk_data]    | Downloading package comparative_sentences to\n",
      "[nltk_data]    |     /Users/hairunwang/nltk_data...\n",
      "[nltk_data]    |   Package comparative_sentences is already up-to-\n",
      "[nltk_data]    |       date!\n",
      "[nltk_data]    | Downloading package comtrans to\n",
      "[nltk_data]    |     /Users/hairunwang/nltk_data...\n",
      "[nltk_data]    |   Package comtrans is already up-to-date!\n",
      "[nltk_data]    | Downloading package conll2000 to\n",
      "[nltk_data]    |     /Users/hairunwang/nltk_data...\n",
      "[nltk_data]    |   Package conll2000 is already up-to-date!\n",
      "[nltk_data]    | Downloading package conll2002 to\n",
      "[nltk_data]    |     /Users/hairunwang/nltk_data...\n",
      "[nltk_data]    |   Package conll2002 is already up-to-date!\n",
      "[nltk_data]    | Downloading package conll2007 to\n",
      "[nltk_data]    |     /Users/hairunwang/nltk_data...\n",
      "[nltk_data]    |   Package conll2007 is already up-to-date!\n",
      "[nltk_data]    | Downloading package crubadan to\n",
      "[nltk_data]    |     /Users/hairunwang/nltk_data...\n",
      "[nltk_data]    |   Package crubadan is already up-to-date!\n",
      "[nltk_data]    | Downloading package dependency_treebank to\n",
      "[nltk_data]    |     /Users/hairunwang/nltk_data...\n",
      "[nltk_data]    |   Package dependency_treebank is already up-to-date!\n",
      "[nltk_data]    | Downloading package dolch to\n",
      "[nltk_data]    |     /Users/hairunwang/nltk_data...\n",
      "[nltk_data]    |   Package dolch is already up-to-date!\n",
      "[nltk_data]    | Downloading package europarl_raw to\n",
      "[nltk_data]    |     /Users/hairunwang/nltk_data...\n",
      "[nltk_data]    |   Package europarl_raw is already up-to-date!\n",
      "[nltk_data]    | Downloading package floresta to\n",
      "[nltk_data]    |     /Users/hairunwang/nltk_data...\n",
      "[nltk_data]    |   Package floresta is already up-to-date!\n",
      "[nltk_data]    | Downloading package framenet_v15 to\n",
      "[nltk_data]    |     /Users/hairunwang/nltk_data...\n",
      "[nltk_data]    |   Package framenet_v15 is already up-to-date!\n",
      "[nltk_data]    | Downloading package framenet_v17 to\n",
      "[nltk_data]    |     /Users/hairunwang/nltk_data...\n",
      "[nltk_data]    |   Package framenet_v17 is already up-to-date!\n",
      "[nltk_data]    | Downloading package gazetteers to\n",
      "[nltk_data]    |     /Users/hairunwang/nltk_data...\n",
      "[nltk_data]    |   Package gazetteers is already up-to-date!\n",
      "[nltk_data]    | Downloading package genesis to\n",
      "[nltk_data]    |     /Users/hairunwang/nltk_data...\n",
      "[nltk_data]    |   Package genesis is already up-to-date!\n",
      "[nltk_data]    | Downloading package gutenberg to\n",
      "[nltk_data]    |     /Users/hairunwang/nltk_data...\n",
      "[nltk_data]    |   Package gutenberg is already up-to-date!\n",
      "[nltk_data]    | Downloading package ieer to\n",
      "[nltk_data]    |     /Users/hairunwang/nltk_data...\n",
      "[nltk_data]    |   Package ieer is already up-to-date!\n",
      "[nltk_data]    | Downloading package inaugural to\n",
      "[nltk_data]    |     /Users/hairunwang/nltk_data...\n",
      "[nltk_data]    |   Package inaugural is already up-to-date!\n",
      "[nltk_data]    | Downloading package indian to\n",
      "[nltk_data]    |     /Users/hairunwang/nltk_data...\n",
      "[nltk_data]    |   Package indian is already up-to-date!\n",
      "[nltk_data]    | Downloading package jeita to\n",
      "[nltk_data]    |     /Users/hairunwang/nltk_data...\n",
      "[nltk_data]    |   Package jeita is already up-to-date!\n",
      "[nltk_data]    | Downloading package kimmo to\n",
      "[nltk_data]    |     /Users/hairunwang/nltk_data...\n",
      "[nltk_data]    |   Package kimmo is already up-to-date!\n",
      "[nltk_data]    | Downloading package knbc to\n",
      "[nltk_data]    |     /Users/hairunwang/nltk_data...\n",
      "[nltk_data]    |   Package knbc is already up-to-date!\n",
      "[nltk_data]    | Downloading package lin_thesaurus to\n",
      "[nltk_data]    |     /Users/hairunwang/nltk_data...\n"
     ]
    },
    {
     "name": "stdout",
     "output_type": "stream",
     "text": [
      "[nltk_data]    |   Package lin_thesaurus is already up-to-date!\n",
      "[nltk_data]    | Downloading package mac_morpho to\n",
      "[nltk_data]    |     /Users/hairunwang/nltk_data...\n",
      "[nltk_data]    |   Package mac_morpho is already up-to-date!\n",
      "[nltk_data]    | Downloading package machado to\n",
      "[nltk_data]    |     /Users/hairunwang/nltk_data...\n",
      "[nltk_data]    |   Package machado is already up-to-date!\n",
      "[nltk_data]    | Downloading package masc_tagged to\n",
      "[nltk_data]    |     /Users/hairunwang/nltk_data...\n",
      "[nltk_data]    |   Package masc_tagged is already up-to-date!\n",
      "[nltk_data]    | Downloading package moses_sample to\n",
      "[nltk_data]    |     /Users/hairunwang/nltk_data...\n",
      "[nltk_data]    |   Package moses_sample is already up-to-date!\n",
      "[nltk_data]    | Downloading package movie_reviews to\n",
      "[nltk_data]    |     /Users/hairunwang/nltk_data...\n",
      "[nltk_data]    |   Package movie_reviews is already up-to-date!\n",
      "[nltk_data]    | Downloading package names to\n",
      "[nltk_data]    |     /Users/hairunwang/nltk_data...\n",
      "[nltk_data]    |   Package names is already up-to-date!\n",
      "[nltk_data]    | Downloading package nombank.1.0 to\n",
      "[nltk_data]    |     /Users/hairunwang/nltk_data...\n",
      "[nltk_data]    |   Package nombank.1.0 is already up-to-date!\n",
      "[nltk_data]    | Downloading package nps_chat to\n",
      "[nltk_data]    |     /Users/hairunwang/nltk_data...\n",
      "[nltk_data]    |   Package nps_chat is already up-to-date!\n",
      "[nltk_data]    | Downloading package omw to\n",
      "[nltk_data]    |     /Users/hairunwang/nltk_data...\n",
      "[nltk_data]    |   Package omw is already up-to-date!\n",
      "[nltk_data]    | Downloading package opinion_lexicon to\n",
      "[nltk_data]    |     /Users/hairunwang/nltk_data...\n",
      "[nltk_data]    |   Package opinion_lexicon is already up-to-date!\n",
      "[nltk_data]    | Downloading package paradigms to\n",
      "[nltk_data]    |     /Users/hairunwang/nltk_data...\n",
      "[nltk_data]    |   Package paradigms is already up-to-date!\n",
      "[nltk_data]    | Downloading package pil to\n",
      "[nltk_data]    |     /Users/hairunwang/nltk_data...\n",
      "[nltk_data]    |   Package pil is already up-to-date!\n",
      "[nltk_data]    | Downloading package pl196x to\n",
      "[nltk_data]    |     /Users/hairunwang/nltk_data...\n",
      "[nltk_data]    |   Package pl196x is already up-to-date!\n",
      "[nltk_data]    | Downloading package ppattach to\n",
      "[nltk_data]    |     /Users/hairunwang/nltk_data...\n",
      "[nltk_data]    |   Package ppattach is already up-to-date!\n",
      "[nltk_data]    | Downloading package problem_reports to\n",
      "[nltk_data]    |     /Users/hairunwang/nltk_data...\n",
      "[nltk_data]    |   Package problem_reports is already up-to-date!\n",
      "[nltk_data]    | Downloading package propbank to\n",
      "[nltk_data]    |     /Users/hairunwang/nltk_data...\n",
      "[nltk_data]    |   Package propbank is already up-to-date!\n",
      "[nltk_data]    | Downloading package ptb to\n",
      "[nltk_data]    |     /Users/hairunwang/nltk_data...\n",
      "[nltk_data]    |   Package ptb is already up-to-date!\n",
      "[nltk_data]    | Downloading package product_reviews_1 to\n",
      "[nltk_data]    |     /Users/hairunwang/nltk_data...\n",
      "[nltk_data]    |   Package product_reviews_1 is already up-to-date!\n",
      "[nltk_data]    | Downloading package product_reviews_2 to\n",
      "[nltk_data]    |     /Users/hairunwang/nltk_data...\n",
      "[nltk_data]    |   Package product_reviews_2 is already up-to-date!\n",
      "[nltk_data]    | Downloading package pros_cons to\n",
      "[nltk_data]    |     /Users/hairunwang/nltk_data...\n",
      "[nltk_data]    |   Package pros_cons is already up-to-date!\n",
      "[nltk_data]    | Downloading package qc to\n",
      "[nltk_data]    |     /Users/hairunwang/nltk_data...\n",
      "[nltk_data]    |   Package qc is already up-to-date!\n",
      "[nltk_data]    | Downloading package reuters to\n",
      "[nltk_data]    |     /Users/hairunwang/nltk_data...\n",
      "[nltk_data]    |   Package reuters is already up-to-date!\n",
      "[nltk_data]    | Downloading package rte to\n",
      "[nltk_data]    |     /Users/hairunwang/nltk_data...\n",
      "[nltk_data]    |   Package rte is already up-to-date!\n",
      "[nltk_data]    | Downloading package semcor to\n",
      "[nltk_data]    |     /Users/hairunwang/nltk_data...\n",
      "[nltk_data]    |   Package semcor is already up-to-date!\n",
      "[nltk_data]    | Downloading package senseval to\n",
      "[nltk_data]    |     /Users/hairunwang/nltk_data...\n",
      "[nltk_data]    |   Package senseval is already up-to-date!\n",
      "[nltk_data]    | Downloading package sentiwordnet to\n",
      "[nltk_data]    |     /Users/hairunwang/nltk_data...\n",
      "[nltk_data]    |   Package sentiwordnet is already up-to-date!\n",
      "[nltk_data]    | Downloading package sentence_polarity to\n",
      "[nltk_data]    |     /Users/hairunwang/nltk_data...\n",
      "[nltk_data]    |   Package sentence_polarity is already up-to-date!\n",
      "[nltk_data]    | Downloading package shakespeare to\n",
      "[nltk_data]    |     /Users/hairunwang/nltk_data...\n",
      "[nltk_data]    |   Package shakespeare is already up-to-date!\n",
      "[nltk_data]    | Downloading package sinica_treebank to\n",
      "[nltk_data]    |     /Users/hairunwang/nltk_data...\n",
      "[nltk_data]    |   Package sinica_treebank is already up-to-date!\n",
      "[nltk_data]    | Downloading package smultron to\n",
      "[nltk_data]    |     /Users/hairunwang/nltk_data...\n",
      "[nltk_data]    |   Package smultron is already up-to-date!\n",
      "[nltk_data]    | Downloading package state_union to\n",
      "[nltk_data]    |     /Users/hairunwang/nltk_data...\n",
      "[nltk_data]    |   Package state_union is already up-to-date!\n",
      "[nltk_data]    | Downloading package stopwords to\n",
      "[nltk_data]    |     /Users/hairunwang/nltk_data...\n",
      "[nltk_data]    |   Package stopwords is already up-to-date!\n",
      "[nltk_data]    | Downloading package subjectivity to\n",
      "[nltk_data]    |     /Users/hairunwang/nltk_data...\n",
      "[nltk_data]    |   Package subjectivity is already up-to-date!\n",
      "[nltk_data]    | Downloading package swadesh to\n",
      "[nltk_data]    |     /Users/hairunwang/nltk_data...\n",
      "[nltk_data]    |   Package swadesh is already up-to-date!\n",
      "[nltk_data]    | Downloading package switchboard to\n",
      "[nltk_data]    |     /Users/hairunwang/nltk_data...\n",
      "[nltk_data]    |   Package switchboard is already up-to-date!\n",
      "[nltk_data]    | Downloading package timit to\n",
      "[nltk_data]    |     /Users/hairunwang/nltk_data...\n",
      "[nltk_data]    |   Package timit is already up-to-date!\n",
      "[nltk_data]    | Downloading package toolbox to\n",
      "[nltk_data]    |     /Users/hairunwang/nltk_data...\n",
      "[nltk_data]    |   Package toolbox is already up-to-date!\n",
      "[nltk_data]    | Downloading package treebank to\n",
      "[nltk_data]    |     /Users/hairunwang/nltk_data...\n",
      "[nltk_data]    |   Package treebank is already up-to-date!\n",
      "[nltk_data]    | Downloading package twitter_samples to\n",
      "[nltk_data]    |     /Users/hairunwang/nltk_data...\n",
      "[nltk_data]    |   Package twitter_samples is already up-to-date!\n",
      "[nltk_data]    | Downloading package udhr to\n",
      "[nltk_data]    |     /Users/hairunwang/nltk_data...\n",
      "[nltk_data]    |   Package udhr is already up-to-date!\n",
      "[nltk_data]    | Downloading package udhr2 to\n",
      "[nltk_data]    |     /Users/hairunwang/nltk_data...\n",
      "[nltk_data]    |   Package udhr2 is already up-to-date!\n",
      "[nltk_data]    | Downloading package unicode_samples to\n",
      "[nltk_data]    |     /Users/hairunwang/nltk_data...\n",
      "[nltk_data]    |   Package unicode_samples is already up-to-date!\n",
      "[nltk_data]    | Downloading package universal_treebanks_v20 to\n",
      "[nltk_data]    |     /Users/hairunwang/nltk_data...\n",
      "[nltk_data]    |   Package universal_treebanks_v20 is already up-to-\n",
      "[nltk_data]    |       date!\n",
      "[nltk_data]    | Downloading package verbnet to\n",
      "[nltk_data]    |     /Users/hairunwang/nltk_data...\n",
      "[nltk_data]    |   Package verbnet is already up-to-date!\n",
      "[nltk_data]    | Downloading package webtext to\n",
      "[nltk_data]    |     /Users/hairunwang/nltk_data...\n",
      "[nltk_data]    |   Package webtext is already up-to-date!\n",
      "[nltk_data]    | Downloading package wordnet to\n",
      "[nltk_data]    |     /Users/hairunwang/nltk_data...\n",
      "[nltk_data]    |   Package wordnet is already up-to-date!\n",
      "[nltk_data]    | Downloading package wordnet_ic to\n",
      "[nltk_data]    |     /Users/hairunwang/nltk_data...\n",
      "[nltk_data]    |   Package wordnet_ic is already up-to-date!\n",
      "[nltk_data]    | Downloading package words to\n",
      "[nltk_data]    |     /Users/hairunwang/nltk_data...\n",
      "[nltk_data]    |   Package words is already up-to-date!\n",
      "[nltk_data]    | Downloading package ycoe to\n",
      "[nltk_data]    |     /Users/hairunwang/nltk_data...\n",
      "[nltk_data]    |   Package ycoe is already up-to-date!\n",
      "[nltk_data]    | Downloading package rslp to\n",
      "[nltk_data]    |     /Users/hairunwang/nltk_data...\n",
      "[nltk_data]    |   Package rslp is already up-to-date!\n",
      "[nltk_data]    | Downloading package maxent_treebank_pos_tagger to\n",
      "[nltk_data]    |     /Users/hairunwang/nltk_data...\n",
      "[nltk_data]    |   Package maxent_treebank_pos_tagger is already up-\n",
      "[nltk_data]    |       to-date!\n",
      "[nltk_data]    | Downloading package universal_tagset to\n",
      "[nltk_data]    |     /Users/hairunwang/nltk_data...\n",
      "[nltk_data]    |   Package universal_tagset is already up-to-date!\n",
      "[nltk_data]    | Downloading package maxent_ne_chunker to\n",
      "[nltk_data]    |     /Users/hairunwang/nltk_data...\n",
      "[nltk_data]    |   Package maxent_ne_chunker is already up-to-date!\n",
      "[nltk_data]    | Downloading package punkt to\n",
      "[nltk_data]    |     /Users/hairunwang/nltk_data...\n",
      "[nltk_data]    |   Package punkt is already up-to-date!\n",
      "[nltk_data]    | Downloading package book_grammars to\n",
      "[nltk_data]    |     /Users/hairunwang/nltk_data...\n",
      "[nltk_data]    |   Package book_grammars is already up-to-date!\n",
      "[nltk_data]    | Downloading package sample_grammars to\n",
      "[nltk_data]    |     /Users/hairunwang/nltk_data...\n",
      "[nltk_data]    |   Package sample_grammars is already up-to-date!\n",
      "[nltk_data]    | Downloading package spanish_grammars to\n",
      "[nltk_data]    |     /Users/hairunwang/nltk_data...\n",
      "[nltk_data]    |   Package spanish_grammars is already up-to-date!\n",
      "[nltk_data]    | Downloading package basque_grammars to\n",
      "[nltk_data]    |     /Users/hairunwang/nltk_data...\n",
      "[nltk_data]    |   Package basque_grammars is already up-to-date!\n",
      "[nltk_data]    | Downloading package large_grammars to\n",
      "[nltk_data]    |     /Users/hairunwang/nltk_data...\n",
      "[nltk_data]    |   Package large_grammars is already up-to-date!\n",
      "[nltk_data]    | Downloading package tagsets to\n",
      "[nltk_data]    |     /Users/hairunwang/nltk_data...\n",
      "[nltk_data]    |   Package tagsets is already up-to-date!\n",
      "[nltk_data]    | Downloading package snowball_data to\n",
      "[nltk_data]    |     /Users/hairunwang/nltk_data...\n",
      "[nltk_data]    |   Package snowball_data is already up-to-date!\n",
      "[nltk_data]    | Downloading package bllip_wsj_no_aux to\n",
      "[nltk_data]    |     /Users/hairunwang/nltk_data...\n"
     ]
    },
    {
     "name": "stdout",
     "output_type": "stream",
     "text": [
      "[nltk_data]    |   Package bllip_wsj_no_aux is already up-to-date!\n",
      "[nltk_data]    | Downloading package word2vec_sample to\n",
      "[nltk_data]    |     /Users/hairunwang/nltk_data...\n",
      "[nltk_data]    |   Package word2vec_sample is already up-to-date!\n",
      "[nltk_data]    | Downloading package panlex_swadesh to\n",
      "[nltk_data]    |     /Users/hairunwang/nltk_data...\n",
      "[nltk_data]    |   Package panlex_swadesh is already up-to-date!\n",
      "[nltk_data]    | Downloading package mte_teip5 to\n",
      "[nltk_data]    |     /Users/hairunwang/nltk_data...\n",
      "[nltk_data]    |   Package mte_teip5 is already up-to-date!\n",
      "[nltk_data]    | Downloading package averaged_perceptron_tagger to\n",
      "[nltk_data]    |     /Users/hairunwang/nltk_data...\n",
      "[nltk_data]    |   Package averaged_perceptron_tagger is already up-\n",
      "[nltk_data]    |       to-date!\n",
      "[nltk_data]    | Downloading package perluniprops to\n",
      "[nltk_data]    |     /Users/hairunwang/nltk_data...\n",
      "[nltk_data]    |   Package perluniprops is already up-to-date!\n",
      "[nltk_data]    | Downloading package nonbreaking_prefixes to\n",
      "[nltk_data]    |     /Users/hairunwang/nltk_data...\n",
      "[nltk_data]    |   Package nonbreaking_prefixes is already up-to-date!\n",
      "[nltk_data]    | Downloading package vader_lexicon to\n",
      "[nltk_data]    |     /Users/hairunwang/nltk_data...\n",
      "[nltk_data]    |   Package vader_lexicon is already up-to-date!\n",
      "[nltk_data]    | Downloading package porter_test to\n",
      "[nltk_data]    |     /Users/hairunwang/nltk_data...\n",
      "[nltk_data]    |   Package porter_test is already up-to-date!\n",
      "[nltk_data]    | Downloading package wmt15_eval to\n",
      "[nltk_data]    |     /Users/hairunwang/nltk_data...\n",
      "[nltk_data]    |   Package wmt15_eval is already up-to-date!\n",
      "[nltk_data]    | Downloading package mwa_ppdb to\n",
      "[nltk_data]    |     /Users/hairunwang/nltk_data...\n",
      "[nltk_data]    |   Package mwa_ppdb is already up-to-date!\n",
      "[nltk_data]    | \n",
      "[nltk_data]  Done downloading collection all\n"
     ]
    },
    {
     "data": {
      "text/plain": [
       "True"
      ]
     },
     "execution_count": 1,
     "metadata": {},
     "output_type": "execute_result"
    }
   ],
   "source": [
    "import nltk\n",
    "nltk.download('popular', halt_on_error=False)\n",
    "nltk.download('all', halt_on_error=False)"
   ]
  },
  {
   "cell_type": "code",
   "execution_count": 2,
   "metadata": {},
   "outputs": [],
   "source": [
    "import nltk as nltk\n",
    "import nltk.corpus  \n",
    "from nltk.text import Text\n",
    "import pandas as pd\n",
    "import re\n",
    "import sys"
   ]
  },
  {
   "cell_type": "code",
   "execution_count": 3,
   "metadata": {},
   "outputs": [],
   "source": [
    "inspections=pd.read_csv('/Users/hairunwang/Desktop/3. NLP/Food_Inspections.csv')"
   ]
  },
  {
   "cell_type": "code",
   "execution_count": 4,
   "metadata": {},
   "outputs": [],
   "source": [
    "fail=inspections[inspections.Results=='Fail']\n",
    "failed=fail.dropna(subset=['Violations'])\n",
    "phrase=failed[['Results','Violations']]"
   ]
  },
  {
   "cell_type": "code",
   "execution_count": 5,
   "metadata": {},
   "outputs": [
    {
     "data": {
      "text/html": [
       "<div>\n",
       "<style scoped>\n",
       "    .dataframe tbody tr th:only-of-type {\n",
       "        vertical-align: middle;\n",
       "    }\n",
       "\n",
       "    .dataframe tbody tr th {\n",
       "        vertical-align: top;\n",
       "    }\n",
       "\n",
       "    .dataframe thead th {\n",
       "        text-align: right;\n",
       "    }\n",
       "</style>\n",
       "<table border=\"1\" class=\"dataframe\">\n",
       "  <thead>\n",
       "    <tr style=\"text-align: right;\">\n",
       "      <th></th>\n",
       "      <th>Results</th>\n",
       "      <th>Violations</th>\n",
       "    </tr>\n",
       "  </thead>\n",
       "  <tbody>\n",
       "    <tr>\n",
       "      <th>3</th>\n",
       "      <td>Fail</td>\n",
       "      <td>3. MANAGEMENT, FOOD EMPLOYEE AND CONDITIONAL E...</td>\n",
       "    </tr>\n",
       "    <tr>\n",
       "      <th>6</th>\n",
       "      <td>Fail</td>\n",
       "      <td>1. PERSON IN CHARGE PRESENT, DEMONSTRATES KNOW...</td>\n",
       "    </tr>\n",
       "    <tr>\n",
       "      <th>13</th>\n",
       "      <td>Fail</td>\n",
       "      <td>3. MANAGEMENT, FOOD EMPLOYEE AND CONDITIONAL E...</td>\n",
       "    </tr>\n",
       "    <tr>\n",
       "      <th>15</th>\n",
       "      <td>Fail</td>\n",
       "      <td>3. MANAGEMENT, FOOD EMPLOYEE AND CONDITIONAL E...</td>\n",
       "    </tr>\n",
       "    <tr>\n",
       "      <th>22</th>\n",
       "      <td>Fail</td>\n",
       "      <td>2. CITY OF CHICAGO FOOD SERVICE SANITATION CER...</td>\n",
       "    </tr>\n",
       "  </tbody>\n",
       "</table>\n",
       "</div>"
      ],
      "text/plain": [
       "   Results                                         Violations\n",
       "3     Fail  3. MANAGEMENT, FOOD EMPLOYEE AND CONDITIONAL E...\n",
       "6     Fail  1. PERSON IN CHARGE PRESENT, DEMONSTRATES KNOW...\n",
       "13    Fail  3. MANAGEMENT, FOOD EMPLOYEE AND CONDITIONAL E...\n",
       "15    Fail  3. MANAGEMENT, FOOD EMPLOYEE AND CONDITIONAL E...\n",
       "22    Fail  2. CITY OF CHICAGO FOOD SERVICE SANITATION CER..."
      ]
     },
     "execution_count": 5,
     "metadata": {},
     "output_type": "execute_result"
    }
   ],
   "source": [
    "phrase.head()"
   ]
  },
  {
   "cell_type": "code",
   "execution_count": 6,
   "metadata": {},
   "outputs": [],
   "source": [
    "from pandas import DataFrame\n",
    "import numpy as np"
   ]
  },
  {
   "cell_type": "code",
   "execution_count": 7,
   "metadata": {},
   "outputs": [],
   "source": [
    "# split each CSV field by \"|\" sign and create a new row per entry \n",
    "\n",
    "phrase1 = DataFrame(phrase.Violations.str.split('|').tolist(), index=phrase.Results).stack()"
   ]
  },
  {
   "cell_type": "code",
   "execution_count": 8,
   "metadata": {},
   "outputs": [],
   "source": [
    "phrase2 = phrase1.reset_index()[[0, 'Results']] # Results variable is currently labeled 0"
   ]
  },
  {
   "cell_type": "code",
   "execution_count": 9,
   "metadata": {},
   "outputs": [],
   "source": [
    "phrase2.columns = ['Violations', 'Results'] # renaming Results"
   ]
  },
  {
   "cell_type": "code",
   "execution_count": 10,
   "metadata": {},
   "outputs": [
    {
     "data": {
      "text/html": [
       "<div>\n",
       "<style scoped>\n",
       "    .dataframe tbody tr th:only-of-type {\n",
       "        vertical-align: middle;\n",
       "    }\n",
       "\n",
       "    .dataframe tbody tr th {\n",
       "        vertical-align: top;\n",
       "    }\n",
       "\n",
       "    .dataframe thead th {\n",
       "        text-align: right;\n",
       "    }\n",
       "</style>\n",
       "<table border=\"1\" class=\"dataframe\">\n",
       "  <thead>\n",
       "    <tr style=\"text-align: right;\">\n",
       "      <th></th>\n",
       "      <th>Violations</th>\n",
       "      <th>Results</th>\n",
       "    </tr>\n",
       "  </thead>\n",
       "  <tbody>\n",
       "    <tr>\n",
       "      <th>0</th>\n",
       "      <td>3. MANAGEMENT, FOOD EMPLOYEE AND CONDITIONAL E...</td>\n",
       "      <td>Fail</td>\n",
       "    </tr>\n",
       "    <tr>\n",
       "      <th>1</th>\n",
       "      <td>5. PROCEDURES FOR RESPONDING TO VOMITING AND ...</td>\n",
       "      <td>Fail</td>\n",
       "    </tr>\n",
       "    <tr>\n",
       "      <th>2</th>\n",
       "      <td>47. FOOD &amp; NON-FOOD CONTACT SURFACES CLEANABL...</td>\n",
       "      <td>Fail</td>\n",
       "    </tr>\n",
       "    <tr>\n",
       "      <th>3</th>\n",
       "      <td>49. NON-FOOD/FOOD CONTACT SURFACES CLEAN - Co...</td>\n",
       "      <td>Fail</td>\n",
       "    </tr>\n",
       "    <tr>\n",
       "      <th>4</th>\n",
       "      <td>55. PHYSICAL FACILITIES INSTALLED, MAINTAINED...</td>\n",
       "      <td>Fail</td>\n",
       "    </tr>\n",
       "  </tbody>\n",
       "</table>\n",
       "</div>"
      ],
      "text/plain": [
       "                                          Violations Results\n",
       "0  3. MANAGEMENT, FOOD EMPLOYEE AND CONDITIONAL E...    Fail\n",
       "1   5. PROCEDURES FOR RESPONDING TO VOMITING AND ...    Fail\n",
       "2   47. FOOD & NON-FOOD CONTACT SURFACES CLEANABL...    Fail\n",
       "3   49. NON-FOOD/FOOD CONTACT SURFACES CLEAN - Co...    Fail\n",
       "4   55. PHYSICAL FACILITIES INSTALLED, MAINTAINED...    Fail"
      ]
     },
     "execution_count": 10,
     "metadata": {},
     "output_type": "execute_result"
    }
   ],
   "source": [
    "phrase2.head()"
   ]
  },
  {
   "cell_type": "code",
   "execution_count": 11,
   "metadata": {},
   "outputs": [],
   "source": [
    "phrase2['Comments'] = phrase2['Violations'].str.split('- Comments:').str[1]"
   ]
  },
  {
   "cell_type": "code",
   "execution_count": 12,
   "metadata": {},
   "outputs": [
    {
     "data": {
      "text/html": [
       "<div>\n",
       "<style scoped>\n",
       "    .dataframe tbody tr th:only-of-type {\n",
       "        vertical-align: middle;\n",
       "    }\n",
       "\n",
       "    .dataframe tbody tr th {\n",
       "        vertical-align: top;\n",
       "    }\n",
       "\n",
       "    .dataframe thead th {\n",
       "        text-align: right;\n",
       "    }\n",
       "</style>\n",
       "<table border=\"1\" class=\"dataframe\">\n",
       "  <thead>\n",
       "    <tr style=\"text-align: right;\">\n",
       "      <th></th>\n",
       "      <th>Violations</th>\n",
       "      <th>Results</th>\n",
       "      <th>Comments</th>\n",
       "    </tr>\n",
       "  </thead>\n",
       "  <tbody>\n",
       "    <tr>\n",
       "      <th>0</th>\n",
       "      <td>3. MANAGEMENT, FOOD EMPLOYEE AND CONDITIONAL E...</td>\n",
       "      <td>Fail</td>\n",
       "      <td>2-102.14(N) OBSERVED NO EMPLOYEE HEALTH POLIC...</td>\n",
       "    </tr>\n",
       "    <tr>\n",
       "      <th>1</th>\n",
       "      <td>5. PROCEDURES FOR RESPONDING TO VOMITING AND ...</td>\n",
       "      <td>Fail</td>\n",
       "      <td>2-501.11 OBSERVED NO CLEAN UP PROCEDURE ON TH...</td>\n",
       "    </tr>\n",
       "    <tr>\n",
       "      <th>2</th>\n",
       "      <td>47. FOOD &amp; NON-FOOD CONTACT SURFACES CLEANABL...</td>\n",
       "      <td>Fail</td>\n",
       "      <td>4-501.11(A)  REPAIR THE LEAKING WATER FROM TH...</td>\n",
       "    </tr>\n",
       "    <tr>\n",
       "      <th>3</th>\n",
       "      <td>49. NON-FOOD/FOOD CONTACT SURFACES CLEAN - Co...</td>\n",
       "      <td>Fail</td>\n",
       "      <td>4-602.13 CLEAN AND SANITIZE THE COFFEE AND DR...</td>\n",
       "    </tr>\n",
       "    <tr>\n",
       "      <th>4</th>\n",
       "      <td>55. PHYSICAL FACILITIES INSTALLED, MAINTAINED...</td>\n",
       "      <td>Fail</td>\n",
       "      <td>6-501.12 CLEAN THE FLOOR BEHIND THE FRONT COU...</td>\n",
       "    </tr>\n",
       "  </tbody>\n",
       "</table>\n",
       "</div>"
      ],
      "text/plain": [
       "                                          Violations Results  \\\n",
       "0  3. MANAGEMENT, FOOD EMPLOYEE AND CONDITIONAL E...    Fail   \n",
       "1   5. PROCEDURES FOR RESPONDING TO VOMITING AND ...    Fail   \n",
       "2   47. FOOD & NON-FOOD CONTACT SURFACES CLEANABL...    Fail   \n",
       "3   49. NON-FOOD/FOOD CONTACT SURFACES CLEAN - Co...    Fail   \n",
       "4   55. PHYSICAL FACILITIES INSTALLED, MAINTAINED...    Fail   \n",
       "\n",
       "                                            Comments  \n",
       "0   2-102.14(N) OBSERVED NO EMPLOYEE HEALTH POLIC...  \n",
       "1   2-501.11 OBSERVED NO CLEAN UP PROCEDURE ON TH...  \n",
       "2   4-501.11(A)  REPAIR THE LEAKING WATER FROM TH...  \n",
       "3   4-602.13 CLEAN AND SANITIZE THE COFFEE AND DR...  \n",
       "4   6-501.12 CLEAN THE FLOOR BEHIND THE FRONT COU...  "
      ]
     },
     "execution_count": 12,
     "metadata": {},
     "output_type": "execute_result"
    }
   ],
   "source": [
    "phrase2.head()"
   ]
  },
  {
   "cell_type": "code",
   "execution_count": 13,
   "metadata": {},
   "outputs": [
    {
     "name": "stdout",
     "output_type": "stream",
     "text": [
      "<class 'pandas.core.frame.DataFrame'>\n",
      "RangeIndex: 186894 entries, 0 to 186893\n",
      "Data columns (total 3 columns):\n",
      "Violations    186894 non-null object\n",
      "Results       186894 non-null object\n",
      "Comments      186643 non-null object\n",
      "dtypes: object(3)\n",
      "memory usage: 4.3+ MB\n"
     ]
    }
   ],
   "source": [
    "phrase2.info()"
   ]
  },
  {
   "cell_type": "code",
   "execution_count": 14,
   "metadata": {},
   "outputs": [
    {
     "data": {
      "text/html": [
       "<div>\n",
       "<style scoped>\n",
       "    .dataframe tbody tr th:only-of-type {\n",
       "        vertical-align: middle;\n",
       "    }\n",
       "\n",
       "    .dataframe tbody tr th {\n",
       "        vertical-align: top;\n",
       "    }\n",
       "\n",
       "    .dataframe thead th {\n",
       "        text-align: right;\n",
       "    }\n",
       "</style>\n",
       "<table border=\"1\" class=\"dataframe\">\n",
       "  <thead>\n",
       "    <tr style=\"text-align: right;\">\n",
       "      <th></th>\n",
       "      <th>Violations</th>\n",
       "      <th>Results</th>\n",
       "      <th>Comments</th>\n",
       "    </tr>\n",
       "  </thead>\n",
       "  <tbody>\n",
       "    <tr>\n",
       "      <th>0</th>\n",
       "      <td>3. MANAGEMENT, FOOD EMPLOYEE AND CONDITIONAL E...</td>\n",
       "      <td>Fail</td>\n",
       "      <td>2-102.14(N) OBSERVED NO EMPLOYEE HEALTH POLIC...</td>\n",
       "    </tr>\n",
       "    <tr>\n",
       "      <th>1</th>\n",
       "      <td>5. PROCEDURES FOR RESPONDING TO VOMITING AND ...</td>\n",
       "      <td>Fail</td>\n",
       "      <td>2-501.11 OBSERVED NO CLEAN UP PROCEDURE ON TH...</td>\n",
       "    </tr>\n",
       "    <tr>\n",
       "      <th>2</th>\n",
       "      <td>47. FOOD &amp; NON-FOOD CONTACT SURFACES CLEANABL...</td>\n",
       "      <td>Fail</td>\n",
       "      <td>4-501.11(A)  REPAIR THE LEAKING WATER FROM TH...</td>\n",
       "    </tr>\n",
       "    <tr>\n",
       "      <th>3</th>\n",
       "      <td>49. NON-FOOD/FOOD CONTACT SURFACES CLEAN - Co...</td>\n",
       "      <td>Fail</td>\n",
       "      <td>4-602.13 CLEAN AND SANITIZE THE COFFEE AND DR...</td>\n",
       "    </tr>\n",
       "    <tr>\n",
       "      <th>4</th>\n",
       "      <td>55. PHYSICAL FACILITIES INSTALLED, MAINTAINED...</td>\n",
       "      <td>Fail</td>\n",
       "      <td>6-501.12 CLEAN THE FLOOR BEHIND THE FRONT COU...</td>\n",
       "    </tr>\n",
       "  </tbody>\n",
       "</table>\n",
       "</div>"
      ],
      "text/plain": [
       "                                          Violations Results  \\\n",
       "0  3. MANAGEMENT, FOOD EMPLOYEE AND CONDITIONAL E...    Fail   \n",
       "1   5. PROCEDURES FOR RESPONDING TO VOMITING AND ...    Fail   \n",
       "2   47. FOOD & NON-FOOD CONTACT SURFACES CLEANABL...    Fail   \n",
       "3   49. NON-FOOD/FOOD CONTACT SURFACES CLEAN - Co...    Fail   \n",
       "4   55. PHYSICAL FACILITIES INSTALLED, MAINTAINED...    Fail   \n",
       "\n",
       "                                            Comments  \n",
       "0   2-102.14(N) OBSERVED NO EMPLOYEE HEALTH POLIC...  \n",
       "1   2-501.11 OBSERVED NO CLEAN UP PROCEDURE ON TH...  \n",
       "2   4-501.11(A)  REPAIR THE LEAKING WATER FROM TH...  \n",
       "3   4-602.13 CLEAN AND SANITIZE THE COFFEE AND DR...  \n",
       "4   6-501.12 CLEAN THE FLOOR BEHIND THE FRONT COU...  "
      ]
     },
     "execution_count": 14,
     "metadata": {},
     "output_type": "execute_result"
    }
   ],
   "source": [
    "phrase2.head()"
   ]
  },
  {
   "cell_type": "code",
   "execution_count": 16,
   "metadata": {},
   "outputs": [],
   "source": [
    "phrase2['Vio_Code'] = phrase2.Violations.str.extract(r'(\\d+).', expand=True)"
   ]
  },
  {
   "cell_type": "code",
   "execution_count": 17,
   "metadata": {},
   "outputs": [],
   "source": [
    "value_counts = phrase2['Vio_Code'].value_counts().head(10)"
   ]
  },
  {
   "cell_type": "code",
   "execution_count": 18,
   "metadata": {},
   "outputs": [
    {
     "data": {
      "text/plain": [
       "34    19370\n",
       "35    18256\n",
       "33    16520\n",
       "18    16432\n",
       "38    15844\n",
       "32    15018\n",
       "41    10715\n",
       "36     7863\n",
       "29     5553\n",
       "40     4647\n",
       "Name: Vio_Code, dtype: int64"
      ]
     },
     "execution_count": 18,
     "metadata": {},
     "output_type": "execute_result"
    }
   ],
   "source": [
    "value_counts"
   ]
  },
  {
   "cell_type": "code",
   "execution_count": 19,
   "metadata": {},
   "outputs": [
    {
     "name": "stdout",
     "output_type": "stream",
     "text": [
      "  unique_values  counts\n",
      "0            34   19370\n",
      "1            35   18256\n",
      "2            33   16520\n",
      "3            18   16432\n",
      "4            38   15844\n",
      "5            32   15018\n",
      "6            41   10715\n",
      "7            36    7863\n",
      "8            29    5553\n",
      "9            40    4647\n"
     ]
    }
   ],
   "source": [
    "df = value_counts.rename_axis('unique_values').reset_index(name='counts')\n",
    "print (df)"
   ]
  },
  {
   "cell_type": "code",
   "execution_count": 20,
   "metadata": {},
   "outputs": [],
   "source": [
    "mapping = df.unique_values.replace(phrase2.set_index('Vio_Code')['Violations'])\n"
   ]
  },
  {
   "cell_type": "code",
   "execution_count": 21,
   "metadata": {},
   "outputs": [
    {
     "name": "stdout",
     "output_type": "stream",
     "text": [
      "0     34. FLOORS: CONSTRUCTED PER CODE, CLEANED, GO...\n",
      "1     35. WALLS, CEILINGS, ATTACHED EQUIPMENT CONST...\n",
      "2     33. PROPER COOLING METHODS USED; ADEQUATE EQU...\n",
      "3     18. NO EVIDENCE OF RODENT OR INSECT OUTER OPE...\n",
      "4     38. INSECTS, RODENTS, & ANIMALS NOT PRESENT -...\n",
      "5     32. FOOD AND NON-FOOD CONTACT SURFACES PROPER...\n",
      "6     41. WIPING CLOTHS: PROPERLY USED & STORED - C...\n",
      "7     36. THERMOMETERS PROVIDED & ACCURATE - Commen...\n",
      "8     29. PREVIOUS MINOR VIOLATION(S) CORRECTED 7-4...\n",
      "9     40. PERSONAL CLEANLINESS - Comments: OBSEVED ...\n",
      "Name: unique_values, dtype: object\n"
     ]
    }
   ],
   "source": [
    "print(mapping)"
   ]
  },
  {
   "cell_type": "code",
   "execution_count": 22,
   "metadata": {},
   "outputs": [
    {
     "name": "stdout",
     "output_type": "stream",
     "text": [
      "  unique_values  counts                                         unique_vio\n",
      "0            34   19370   34. FLOORS: CONSTRUCTED PER CODE, CLEANED, GO...\n",
      "1            35   18256   35. WALLS, CEILINGS, ATTACHED EQUIPMENT CONST...\n",
      "2            33   16520   33. PROPER COOLING METHODS USED; ADEQUATE EQU...\n",
      "3            18   16432   18. NO EVIDENCE OF RODENT OR INSECT OUTER OPE...\n",
      "4            38   15844   38. INSECTS, RODENTS, & ANIMALS NOT PRESENT -...\n",
      "5            32   15018   32. FOOD AND NON-FOOD CONTACT SURFACES PROPER...\n",
      "6            41   10715   41. WIPING CLOTHS: PROPERLY USED & STORED - C...\n",
      "7            36    7863   36. THERMOMETERS PROVIDED & ACCURATE - Commen...\n",
      "8            29    5553   29. PREVIOUS MINOR VIOLATION(S) CORRECTED 7-4...\n",
      "9            40    4647   40. PERSONAL CLEANLINESS - Comments: OBSEVED ...\n"
     ]
    }
   ],
   "source": [
    "df['unique_vio'] = mapping\n",
    "print(df)"
   ]
  },
  {
   "cell_type": "code",
   "execution_count": 23,
   "metadata": {},
   "outputs": [],
   "source": [
    "df['unique_vio2'] = df['unique_vio'].str.split('- Comments:').str[0]"
   ]
  },
  {
   "cell_type": "code",
   "execution_count": 24,
   "metadata": {},
   "outputs": [],
   "source": [
    "df['unique_vio2'] = df['unique_vio'].str.split('\\d+.').str[1]"
   ]
  },
  {
   "cell_type": "code",
   "execution_count": 25,
   "metadata": {},
   "outputs": [
    {
     "data": {
      "text/html": [
       "<div>\n",
       "<style scoped>\n",
       "    .dataframe tbody tr th:only-of-type {\n",
       "        vertical-align: middle;\n",
       "    }\n",
       "\n",
       "    .dataframe tbody tr th {\n",
       "        vertical-align: top;\n",
       "    }\n",
       "\n",
       "    .dataframe thead th {\n",
       "        text-align: right;\n",
       "    }\n",
       "</style>\n",
       "<table border=\"1\" class=\"dataframe\">\n",
       "  <thead>\n",
       "    <tr style=\"text-align: right;\">\n",
       "      <th></th>\n",
       "      <th>unique_values</th>\n",
       "      <th>counts</th>\n",
       "      <th>unique_vio</th>\n",
       "      <th>unique_vio2</th>\n",
       "    </tr>\n",
       "  </thead>\n",
       "  <tbody>\n",
       "    <tr>\n",
       "      <th>0</th>\n",
       "      <td>34</td>\n",
       "      <td>19370</td>\n",
       "      <td>34. FLOORS: CONSTRUCTED PER CODE, CLEANED, GO...</td>\n",
       "      <td>FLOORS: CONSTRUCTED PER CODE, CLEANED, GOOD R...</td>\n",
       "    </tr>\n",
       "    <tr>\n",
       "      <th>1</th>\n",
       "      <td>35</td>\n",
       "      <td>18256</td>\n",
       "      <td>35. WALLS, CEILINGS, ATTACHED EQUIPMENT CONST...</td>\n",
       "      <td>WALLS, CEILINGS, ATTACHED EQUIPMENT CONSTRUCT...</td>\n",
       "    </tr>\n",
       "    <tr>\n",
       "      <th>2</th>\n",
       "      <td>33</td>\n",
       "      <td>16520</td>\n",
       "      <td>33. PROPER COOLING METHODS USED; ADEQUATE EQU...</td>\n",
       "      <td>PROPER COOLING METHODS USED; ADEQUATE EQUIPME...</td>\n",
       "    </tr>\n",
       "    <tr>\n",
       "      <th>3</th>\n",
       "      <td>18</td>\n",
       "      <td>16432</td>\n",
       "      <td>18. NO EVIDENCE OF RODENT OR INSECT OUTER OPE...</td>\n",
       "      <td>NO EVIDENCE OF RODENT OR INSECT OUTER OPENING...</td>\n",
       "    </tr>\n",
       "    <tr>\n",
       "      <th>4</th>\n",
       "      <td>38</td>\n",
       "      <td>15844</td>\n",
       "      <td>38. INSECTS, RODENTS, &amp; ANIMALS NOT PRESENT -...</td>\n",
       "      <td>INSECTS, RODENTS, &amp; ANIMALS NOT PRESENT - Com...</td>\n",
       "    </tr>\n",
       "    <tr>\n",
       "      <th>5</th>\n",
       "      <td>32</td>\n",
       "      <td>15018</td>\n",
       "      <td>32. FOOD AND NON-FOOD CONTACT SURFACES PROPER...</td>\n",
       "      <td>FOOD AND NON-FOOD CONTACT SURFACES PROPERLY D...</td>\n",
       "    </tr>\n",
       "    <tr>\n",
       "      <th>6</th>\n",
       "      <td>41</td>\n",
       "      <td>10715</td>\n",
       "      <td>41. WIPING CLOTHS: PROPERLY USED &amp; STORED - C...</td>\n",
       "      <td>WIPING CLOTHS: PROPERLY USED &amp; STORED - Comme...</td>\n",
       "    </tr>\n",
       "    <tr>\n",
       "      <th>7</th>\n",
       "      <td>36</td>\n",
       "      <td>7863</td>\n",
       "      <td>36. THERMOMETERS PROVIDED &amp; ACCURATE - Commen...</td>\n",
       "      <td>THERMOMETERS PROVIDED &amp; ACCURATE - Comments:</td>\n",
       "    </tr>\n",
       "    <tr>\n",
       "      <th>8</th>\n",
       "      <td>29</td>\n",
       "      <td>5553</td>\n",
       "      <td>29. PREVIOUS MINOR VIOLATION(S) CORRECTED 7-4...</td>\n",
       "      <td>PREVIOUS MINOR VIOLATION(S) CORRECTED</td>\n",
       "    </tr>\n",
       "    <tr>\n",
       "      <th>9</th>\n",
       "      <td>40</td>\n",
       "      <td>4647</td>\n",
       "      <td>40. PERSONAL CLEANLINESS - Comments: OBSEVED ...</td>\n",
       "      <td>PERSONAL CLEANLINESS - Comments: OBSEVED FOOD...</td>\n",
       "    </tr>\n",
       "  </tbody>\n",
       "</table>\n",
       "</div>"
      ],
      "text/plain": [
       "  unique_values  counts                                         unique_vio  \\\n",
       "0            34   19370   34. FLOORS: CONSTRUCTED PER CODE, CLEANED, GO...   \n",
       "1            35   18256   35. WALLS, CEILINGS, ATTACHED EQUIPMENT CONST...   \n",
       "2            33   16520   33. PROPER COOLING METHODS USED; ADEQUATE EQU...   \n",
       "3            18   16432   18. NO EVIDENCE OF RODENT OR INSECT OUTER OPE...   \n",
       "4            38   15844   38. INSECTS, RODENTS, & ANIMALS NOT PRESENT -...   \n",
       "5            32   15018   32. FOOD AND NON-FOOD CONTACT SURFACES PROPER...   \n",
       "6            41   10715   41. WIPING CLOTHS: PROPERLY USED & STORED - C...   \n",
       "7            36    7863   36. THERMOMETERS PROVIDED & ACCURATE - Commen...   \n",
       "8            29    5553   29. PREVIOUS MINOR VIOLATION(S) CORRECTED 7-4...   \n",
       "9            40    4647   40. PERSONAL CLEANLINESS - Comments: OBSEVED ...   \n",
       "\n",
       "                                         unique_vio2  \n",
       "0   FLOORS: CONSTRUCTED PER CODE, CLEANED, GOOD R...  \n",
       "1   WALLS, CEILINGS, ATTACHED EQUIPMENT CONSTRUCT...  \n",
       "2   PROPER COOLING METHODS USED; ADEQUATE EQUIPME...  \n",
       "3   NO EVIDENCE OF RODENT OR INSECT OUTER OPENING...  \n",
       "4   INSECTS, RODENTS, & ANIMALS NOT PRESENT - Com...  \n",
       "5   FOOD AND NON-FOOD CONTACT SURFACES PROPERLY D...  \n",
       "6   WIPING CLOTHS: PROPERLY USED & STORED - Comme...  \n",
       "7      THERMOMETERS PROVIDED & ACCURATE - Comments:   \n",
       "8             PREVIOUS MINOR VIOLATION(S) CORRECTED   \n",
       "9   PERSONAL CLEANLINESS - Comments: OBSEVED FOOD...  "
      ]
     },
     "execution_count": 25,
     "metadata": {},
     "output_type": "execute_result"
    }
   ],
   "source": [
    "df"
   ]
  },
  {
   "cell_type": "code",
   "execution_count": 50,
   "metadata": {},
   "outputs": [],
   "source": [
    "words = df['unique_vio2'].values.T.tolist()"
   ]
  },
  {
   "cell_type": "code",
   "execution_count": 51,
   "metadata": {},
   "outputs": [
    {
     "data": {
      "text/plain": [
       "[' FLOORS: CONSTRUCTED PER CODE, CLEANED, GOOD REPAIR, COVING INSTALLED, DUST-LESS CLEANING METHODS USED - Comments: CLEAN FLOORS UNDER ALL COOKING EQUIPMENT, COOLERS, SINKS, ALONG WALLS AND IN ALL CORNERS IN PREP, WASHROOM, AND FRONT COUNTER AREAS. REPLACE MISSING AND DAMAGED FLOOR TILES IN REAR PREP AREA. ',\n",
       " ' WALLS, CEILINGS, ATTACHED EQUIPMENT CONSTRUCTED PER CODE: GOOD REPAIR, SURFACES CLEAN AND DUST-LESS CLEANING METHODS - Comments: SEAL ALL OPENINGS, CRACKS, AND CREVICES ALONG WALLS AND CEILINGS IN PREP AREA, ABOVE VENTILATION HOOD, ETC. ',\n",
       " ' PROPER COOLING METHODS USED; ADEQUATE EQUIPMENT FOR TEMPERATURE CONTROL - Comments: ',\n",
       " ' NO EVIDENCE OF RODENT OR INSECT OUTER OPENINGS PROTECTED/RODENT PROOFED, A WRITTEN LOG SHALL BE MAINTAINED AVAILABLE TO THE INSPECTORS - Comments: OBSERVED OVER ',\n",
       " ' INSECTS, RODENTS, & ANIMALS NOT PRESENT - Comments: ',\n",
       " ' FOOD AND NON-FOOD CONTACT SURFACES PROPERLY DESIGNED, CONSTRUCTED AND MAINTAINED - Comments: REPLACE DAMAGED GASKETS ON PREP COOLER DOOR. PAINT SHELVES UNDER FRONT COUNTER. ',\n",
       " ' WIPING CLOTHS: PROPERLY USED & STORED - Comments: OBSERVED WIPING CLOTHS FOR WIPING COUNTERS NOT STORED IN CHEMICAL SANTIZER BETWEEN USES. MUST HOLD WIPING CLOTHS IN SANTIZER SOLUTION AND PROPER CONCENTRATION.  ',\n",
       " ' THERMOMETERS PROVIDED & ACCURATE - Comments: ',\n",
       " ' PREVIOUS MINOR VIOLATION(S) CORRECTED ',\n",
       " ' PERSONAL CLEANLINESS - Comments: OBSEVED FOOD HANDLER EMPLOYEES ACTIVELY HANDLE FOOD WITH OUT UTILIZING HAIR RESTRAINTS SUCH AS HATS, HAIR COVERINGS OR HAIR NETS. ALLY FOOD HANDLER EMPLOYEES MUST WEAR HAIR RESTRAINTS. ']"
      ]
     },
     "execution_count": 51,
     "metadata": {},
     "output_type": "execute_result"
    }
   ],
   "source": [
    "words"
   ]
  },
  {
   "cell_type": "code",
   "execution_count": 53,
   "metadata": {},
   "outputs": [
    {
     "data": {
      "text/plain": [
       "list"
      ]
     },
     "execution_count": 53,
     "metadata": {},
     "output_type": "execute_result"
    }
   ],
   "source": [
    "type(words)\n"
   ]
  },
  {
   "cell_type": "code",
   "execution_count": 58,
   "metadata": {},
   "outputs": [
    {
     "name": "stdout",
     "output_type": "stream",
     "text": [
      "[\"'FLOORS:' 'CONSTRUCTED' 'PER' 'CODE,' 'CLEANED,' 'GOOD' 'REPAIR,' 'COVING' 'INSTALLED,' 'DUST-LESS' 'CLEANING' 'METHODS' 'USED' '-' 'CLEAN' 'FLOORS' 'UNDER' 'ALL' 'COOKING' 'EQUIPMENT,' 'COOLERS,' 'SINKS,' 'ALONG' 'WALLS' 'ALL' 'CORNERS' 'PREP,' 'WASHROOM,' 'FRONT' 'COUNTER' 'AREAS.' 'REPLACE' 'MISSING' 'DAMAGED' 'FLOOR' 'TILES' 'IN' 'REAR' 'PREP' 'AREA.'\", \"'WALLS,' 'CEILINGS,' 'ATTACHED' 'EQUIPMENT' 'CONSTRUCTED' 'PER' 'CODE:' 'GOOD' 'REPAIR,' 'SURFACES' 'CLEAN' 'DUST-LESS' 'CLEANING' 'METHODS' '-' 'SEAL' 'ALL' 'OPENINGS,' 'CRACKS,' 'CREVICES' 'ALONG' 'WALLS' 'CEILINGS' 'PREP' 'AREA,' 'ABOVE' 'VENTILATION' 'HOOD,' 'ETC.'\", \"'PROPER' 'COOLING' 'METHODS' 'USED;' 'ADEQUATE' 'EQUIPMENT' 'FOR' 'TEMPERATURE' 'CONTROL' '-'\", \"'NO' 'EVIDENCE' 'OF' 'RODENT' 'INSECT' 'OUTER' 'OPENINGS' 'PROTECTED/RODENT' 'PROOFED,' 'A' 'WRITTEN' 'LOG' 'SHALL' 'BE' 'MAINTAINED' 'AVAILABLE' 'TO' 'THE' 'INSPECTORS' '-' 'OBSERVED' 'OVER'\", \"'INSECTS,' 'RODENTS,' '&' 'ANIMALS' 'PRESENT' '-'\", \"'FOOD' 'NON-FOOD' 'CONTACT' 'SURFACES' 'PROPERLY' 'DESIGNED,' 'CONSTRUCTED' 'MAINTAINED' '-' 'REPLACE' 'DAMAGED' 'GASKETS' 'ON' 'PREP' 'COOLER' 'DOOR.' 'PAINT' 'SHELVES' 'UNDER' 'FRONT' 'COUNTER.'\", \"'WIPING' 'CLOTHS:' 'PROPERLY' 'USED' '&' 'STORED' '-' 'OBSERVED' 'WIPING' 'CLOTHS' 'FOR' 'WIPING' 'COUNTERS' 'STORED' 'CHEMICAL' 'SANTIZER' 'BETWEEN' 'USES.' 'MUST' 'HOLD' 'WIPING' 'CLOTHS' 'SANTIZER' 'SOLUTION' 'PROPER' 'CONCENTRATION.'\", \"'THERMOMETERS' 'PROVIDED' '&' 'ACCURATE' '-'\", \"'PREVIOUS' 'MINOR' 'VIOLATION(S)' 'CORRECTED'\", \"'PERSONAL' 'CLEANLINESS' '-' 'OBSEVED' 'FOOD' 'HANDLER' 'EMPLOYEES' 'ACTIVELY' 'HANDLE' 'FOOD' 'WITH' 'OUT' 'UTILIZING' 'HAIR' 'RESTRAINTS' 'SUCH' 'AS' 'HATS,' 'HAIR' 'COVERINGS' 'HAIR' 'NETS.' 'ALLY' 'FOOD' 'HANDLER' 'EMPLOYEES' 'MUST' 'WEAR' 'HAIR' 'RESTRAINTS.'\"]\n"
     ]
    }
   ],
   "source": [
    "exclude = set(['Comments:', 'AND', 'OR', 'IN', 'NOT'])\n",
    "\n",
    "mod_example = []\n",
    "for sentence in words:\n",
    "    words = sentence.split()\n",
    "    # Optionally sort out some words\n",
    "    for word in words:\n",
    "        if word in exclude:\n",
    "            words.remove(word)\n",
    "    mod_example.append('\\'' + '\\' \\''.join(words) + '\\'')\n",
    "\n",
    "print(mod_example)"
   ]
  },
  {
   "cell_type": "code",
   "execution_count": 59,
   "metadata": {},
   "outputs": [
    {
     "name": "stdout",
     "output_type": "stream",
     "text": [
      "[\"'PERSONAL'\", \"'CLEANLINESS'\", \"''\", \"'OBSEVED'\", \"'FOOD'\", \"'HANDLER'\", \"'EMPLOYEES'\", \"'ACTIVELY'\", \"'HANDLE'\", \"'FOOD'\", \"'WITH'\", \"'OUT'\", \"'UTILIZING'\", \"'HAIR'\", \"'RESTRAINTS'\", \"'SUCH'\", \"'AS'\", \"'HATS,'\", \"'HAIR'\", \"'COVERINGS'\", \"'HAIR'\", \"'NETS.'\", \"'ALLY'\", \"'FOOD'\", \"'HANDLER'\", \"'EMPLOYEES'\", \"'MUST'\", \"'WEAR'\", \"'HAIR'\", \"'RESTRAINTS.'\"]\n"
     ]
    }
   ],
   "source": [
    "exclude = set(['-','&',':'])\n",
    "\n",
    "mod_example = []\n",
    "for sentence in words:\n",
    "    words = sentence.split()\n",
    "    # Optionally sort out some words\n",
    "    for word in words:\n",
    "        if word in exclude:\n",
    "            words.remove(word)\n",
    "    mod_example.append('\\'' + '\\' \\''.join(words) + '\\'')\n",
    "\n",
    "print(mod_example)"
   ]
  },
  {
   "cell_type": "code",
   "execution_count": null,
   "metadata": {},
   "outputs": [],
   "source": []
  },
  {
   "cell_type": "code",
   "execution_count": 60,
   "metadata": {},
   "outputs": [],
   "source": [
    "porter = nltk.PorterStemmer()\n",
    "lancaster = nltk.LancasterStemmer()"
   ]
  },
  {
   "cell_type": "code",
   "execution_count": 63,
   "metadata": {},
   "outputs": [
    {
     "name": "stdout",
     "output_type": "stream",
     "text": [
      "['restraints.']\n"
     ]
    }
   ],
   "source": [
    "print([porter.stem(t) for t in words[0:10]])"
   ]
  },
  {
   "cell_type": "code",
   "execution_count": 64,
   "metadata": {},
   "outputs": [
    {
     "name": "stdout",
     "output_type": "stream",
     "text": [
      "['restraints.']\n"
     ]
    }
   ],
   "source": [
    "print([lancaster.stem(t) for t in words[0:10]])"
   ]
  },
  {
   "cell_type": "code",
   "execution_count": 65,
   "metadata": {},
   "outputs": [
    {
     "data": {
      "text/plain": [
       "[(\"'PERSONAL'\", 'POS'),\n",
       " (\"'CLEANLINESS'\", 'PRP'),\n",
       " (\"''\", \"''\"),\n",
       " (\"'OBSEVED'\", \"''\"),\n",
       " (\"'FOOD'\", 'POS'),\n",
       " (\"'HANDLER'\", 'POS'),\n",
       " (\"'EMPLOYEES'\", 'CD'),\n",
       " (\"'ACTIVELY'\", \"''\"),\n",
       " (\"'HANDLE'\", 'POS'),\n",
       " (\"'FOOD'\", 'POS'),\n",
       " (\"'WITH'\", 'CD'),\n",
       " (\"'OUT'\", \"''\"),\n",
       " (\"'UTILIZING'\", 'POS'),\n",
       " (\"'HAIR'\", 'POS'),\n",
       " (\"'RESTRAINTS'\", 'CD'),\n",
       " (\"'SUCH'\", \"''\"),\n",
       " (\"'AS'\", 'POS'),\n",
       " (\"'HATS,'\", 'POS'),\n",
       " (\"'HAIR'\", 'CD'),\n",
       " (\"'COVERINGS'\", \"''\"),\n",
       " (\"'HAIR'\", 'POS'),\n",
       " (\"'NETS.'\", 'POS'),\n",
       " (\"'ALLY'\", 'CD'),\n",
       " (\"'FOOD'\", \"''\"),\n",
       " (\"'HANDLER'\", 'POS'),\n",
       " (\"'EMPLOYEES'\", 'POS'),\n",
       " (\"'MUST'\", 'CD'),\n",
       " (\"'WEAR'\", \"''\"),\n",
       " (\"'HAIR'\", 'CD'),\n",
       " (\"'RESTRAINTS.'\", 'NNS')]"
      ]
     },
     "execution_count": 65,
     "metadata": {},
     "output_type": "execute_result"
    }
   ],
   "source": [
    "nltk.pos_tag(mod_example)"
   ]
  },
  {
   "cell_type": "code",
   "execution_count": 66,
   "metadata": {},
   "outputs": [
    {
     "data": {
      "text/plain": [
       "[(\"'HAIR'\", 4),\n",
       " (\"'FOOD'\", 3),\n",
       " (\"'HANDLER'\", 2),\n",
       " (\"'EMPLOYEES'\", 2),\n",
       " (\"'PERSONAL'\", 1),\n",
       " (\"'CLEANLINESS'\", 1),\n",
       " (\"''\", 1),\n",
       " (\"'OBSEVED'\", 1),\n",
       " (\"'ACTIVELY'\", 1),\n",
       " (\"'HANDLE'\", 1)]"
      ]
     },
     "execution_count": 66,
     "metadata": {},
     "output_type": "execute_result"
    }
   ],
   "source": [
    "fdist = nltk.FreqDist(mod_example)\n",
    "\n",
    "fdist.most_common(10)"
   ]
  },
  {
   "cell_type": "code",
   "execution_count": null,
   "metadata": {},
   "outputs": [],
   "source": []
  }
 ],
 "metadata": {
  "kernelspec": {
   "display_name": "Python 3",
   "language": "python",
   "name": "python3"
  },
  "language_info": {
   "codemirror_mode": {
    "name": "ipython",
    "version": 3
   },
   "file_extension": ".py",
   "mimetype": "text/x-python",
   "name": "python",
   "nbconvert_exporter": "python",
   "pygments_lexer": "ipython3",
   "version": "3.6.4"
  }
 },
 "nbformat": 4,
 "nbformat_minor": 2
}
